{
 "cells": [
  {
   "cell_type": "code",
   "execution_count": 1,
   "metadata": {
    "colab": {},
    "colab_type": "code",
    "id": "wTiFUwxAVe4R",
    "scrolled": true
   },
   "outputs": [],
   "source": [
    "import sys\n",
    "import numpy as np\n",
    "from collections import Counter\n",
    "import pandas as pd"
   ]
  },
  {
   "cell_type": "code",
   "execution_count": 2,
   "metadata": {
    "colab": {},
    "colab_type": "code",
    "id": "3ul0ElscVq7t"
   },
   "outputs": [
    {
     "data": {
      "text/html": [
       "<div>\n",
       "<style scoped>\n",
       "    .dataframe tbody tr th:only-of-type {\n",
       "        vertical-align: middle;\n",
       "    }\n",
       "\n",
       "    .dataframe tbody tr th {\n",
       "        vertical-align: top;\n",
       "    }\n",
       "\n",
       "    .dataframe thead th {\n",
       "        text-align: right;\n",
       "    }\n",
       "</style>\n",
       "<table border=\"1\" class=\"dataframe\">\n",
       "  <thead>\n",
       "    <tr style=\"text-align: right;\">\n",
       "      <th></th>\n",
       "      <th>Hits</th>\n",
       "    </tr>\n",
       "  </thead>\n",
       "  <tbody>\n",
       "    <tr>\n",
       "      <th>0</th>\n",
       "      <td>1 1</td>\n",
       "    </tr>\n",
       "    <tr>\n",
       "      <th>1</th>\n",
       "      <td>2</td>\n",
       "    </tr>\n",
       "    <tr>\n",
       "      <th>2</th>\n",
       "      <td>3 2 2 4 2 2 2 3 3</td>\n",
       "    </tr>\n",
       "    <tr>\n",
       "      <th>3</th>\n",
       "      <td>5</td>\n",
       "    </tr>\n",
       "    <tr>\n",
       "      <th>4</th>\n",
       "      <td>1</td>\n",
       "    </tr>\n",
       "  </tbody>\n",
       "</table>\n",
       "</div>"
      ],
      "text/plain": [
       "                Hits\n",
       "0                1 1\n",
       "1                  2\n",
       "2  3 2 2 4 2 2 2 3 3\n",
       "3                  5\n",
       "4                  1"
      ]
     },
     "execution_count": 2,
     "metadata": {},
     "output_type": "execute_result"
    }
   ],
   "source": [
    "# Read in the CSV file\n",
    "file = pd.read_csv(\"msnbc990928.csv\")\n",
    "minsup=0.000000001\n",
    "file.head()"
   ]
  },
  {
   "cell_type": "code",
   "execution_count": 3,
   "metadata": {
    "colab": {},
    "colab_type": "code",
    "id": "OrzsAJgqYAWY"
   },
   "outputs": [],
   "source": [
    "def calc_freq(original_list, item):\n",
    "    counter = 0\n",
    "    checker = True\n",
    "    \n",
    "    for a in original_list:\n",
    "        c = Counter(a)\n",
    "        for b in range(0,len(item)):\n",
    "            if c[item[b]] != 1:\n",
    "                checker = False\n",
    "        if checker == True:\n",
    "            counter = counter+1\n",
    "        checker = True\n",
    "    result = counter\n",
    "    return result"
   ]
  },
  {
   "cell_type": "code",
   "execution_count": 4,
   "metadata": {
    "colab": {
     "base_uri": "https://localhost:8080/",
     "height": 225
    },
    "colab_type": "code",
    "id": "SYjFfyOGaaVc",
    "outputId": "406b76c6-95a8-46ce-b4d6-a90fbda519f9"
   },
   "outputs": [
    {
     "data": {
      "text/plain": [
       "0                       1 1\n",
       "1                         2\n",
       "2         3 2 2 4 2 2 2 3 3\n",
       "3                         5\n",
       "4                         1\n",
       "                ...        \n",
       "989813      9 9 9 9 9 9 9 9\n",
       "989814                  1 2\n",
       "989815              1 1 1 1\n",
       "989816        1 1 1 1 1 1 1\n",
       "989817                    6\n",
       "Name: Hits, Length: 989818, dtype: object"
      ]
     },
     "execution_count": 4,
     "metadata": {},
     "output_type": "execute_result"
    }
   ],
   "source": [
    "buff = []\n",
    "buff = file[\"Hits\"]\n",
    "buff"
   ]
  },
  {
   "cell_type": "code",
   "execution_count": 5,
   "metadata": {
    "colab": {},
    "colab_type": "code",
    "id": "Vf4EeFWDb0CJ"
   },
   "outputs": [],
   "source": [
    "list_temp = []\n",
    "original_list = []\n",
    "counter = 0\n",
    "\n",
    "for k in buff:\n",
    "    original_list.append(k.split(' '))\n"
   ]
  },
  {
   "cell_type": "code",
   "execution_count": 6,
   "metadata": {
    "colab": {
     "base_uri": "https://localhost:8080/",
     "height": 34
    },
    "colab_type": "code",
    "id": "asW3hK6kyw7r",
    "outputId": "e8e2620a-4646-4217-8c00-489a10364496"
   },
   "outputs": [
    {
     "name": "stdout",
     "output_type": "stream",
     "text": [
      "989818\n"
     ]
    }
   ],
   "source": [
    "candidate_1 = list(sorted(set(x for l in original_list for x in l)))\n",
    "list3 = []\n",
    "list3.append('2')\n",
    "list3.append('3')\n",
    "list3.append('4')\n",
    "\n",
    "minsup = minsup*len(original_list)\n",
    "\n",
    "print(len(original_list))\n",
    "candidate_k = []\n",
    "freq_items = []\n",
    "for i in candidate_1:\n",
    "    freq = calc_freq(original_list, i)\n",
    "    if freq >= minsup:\n",
    "        freq_items.append(list(i))\n",
    "        freq_items.append(freq)\n",
    "        candidate_k.append(list(i))\n",
    "\n",
    "candidate_1 = list(sorted(set(x for l in original_list for x in l)))\n",
    "list3 = []\n",
    "list3.append('2')\n",
    "list3.append('3')\n",
    "list3.append('4')\n",
    "\n",
    "minsup = minsup*len(original_list)\n",
    "candidate_k = []\n",
    "freq_items = []\n",
    "for i in candidate_1:\n",
    "    freq = calc_freq(original_list, i)\n",
    "    if freq >= minsup:\n",
    "        freq_items.append(list(i))\n",
    "        freq_items.append(freq)\n",
    "        candidate_k.append(list(i))\n",
    "\n",
    "while len(candidate_k)!= 0:\n",
    "    candidate_nonpruned = []\n",
    "\n",
    "    for i in range(0,len(candidate_k)):\n",
    "        for j in range(i+1,len(candidate_k)):\n",
    "            if candidate_k[i][1:len(candidate_k[i])] == candidate_k[j][0:len(candidate_k[j])-1]:\n",
    "                list_temp2 = []\n",
    "                for k in candidate_k[i]:\n",
    "                    list_temp2.append(k)\n",
    "                list_temp2.append(candidate_k[j][len(candidate_k[j])-1])\n",
    "                candidate_nonpruned.append(list_temp2)\n",
    "    candidate_temp = []\n",
    "    for i in candidate_nonpruned:\n",
    "        if calc_freq(original_list, i) >= minsup:\n",
    "            candidate_temp.append(i)\n",
    "    candidate_pruned = []\n",
    "    \n",
    "    for i in candidate_temp:\n",
    "        subsets = []\n",
    "        for j in i:\n",
    "            i_temp = []\n",
    "            for k in i:\n",
    "                i_temp.append(k)\n",
    "            i_temp.remove(j)\n",
    "            subsets.append(i_temp)\n",
    "        checker2 = True\n",
    "        for k in subsets:\n",
    "            if k not in candidate_k:\n",
    "                checker2 = False\n",
    "        if checker2 == True:\n",
    "            candidate_pruned.append(i)\n",
    "    if len(candidate_pruned) != 0:\n",
    "        for c in candidate_pruned:\n",
    "            freq_items.append(c)\n",
    "            freq = calc_freq(original_list, c)\n",
    "            freq_items.append(freq)\n",
    "    candidate_k = candidate_pruned"
   ]
  },
  {
   "cell_type": "code",
   "execution_count": 7,
   "metadata": {
    "colab": {
     "base_uri": "https://localhost:8080/",
     "height": 1000
    },
    "colab_type": "code",
    "id": "l_klzu7h14-3",
    "outputId": "122c434e-f147-4356-bedd-7928c55b34ec"
   },
   "outputs": [
    {
     "name": "stdout",
     "output_type": "stream",
     "text": [
      "pattern: ['1'] support value: 136009\n",
      "\n",
      "pattern: ['1', '1'] support value: 136009\n",
      "\n",
      "pattern: ['1', '2'] support value: 11627\n",
      "\n",
      "pattern: ['1', '3'] support value: 7052\n",
      "\n",
      "pattern: ['1', '4'] support value: 5656\n",
      "\n",
      "pattern: ['1', '5'] support value: 1659\n",
      "\n",
      "pattern: ['1', '6'] support value: 8551\n",
      "\n",
      "pattern: ['1', '7'] support value: 2470\n",
      "\n",
      "pattern: ['2'] support value: 88065\n",
      "\n",
      "pattern: ['3'] support value: 85012\n",
      "\n",
      "pattern: ['4'] support value: 62822\n",
      "\n",
      "pattern: ['5'] support value: 9554\n",
      "\n",
      "pattern: ['6'] support value: 147331\n",
      "\n",
      "pattern: ['7'] support value: 21510\n",
      "\n",
      "pattern: ['8'] support value: 29002\n",
      "\n",
      "pattern: ['9'] support value: 48183\n",
      "\n",
      "pattern: ['1', '2'] support value: 11627\n",
      "\n",
      "pattern: ['1', '3'] support value: 7052\n",
      "\n",
      "pattern: ['1', '4'] support value: 5656\n",
      "\n",
      "pattern: ['1', '5'] support value: 1659\n",
      "\n",
      "pattern: ['1', '6'] support value: 8551\n",
      "\n",
      "pattern: ['1', '7'] support value: 2470\n",
      "\n",
      "pattern: ['1', '8'] support value: 1579\n",
      "\n",
      "pattern: ['1', '9'] support value: 2896\n",
      "\n",
      "pattern: ['1', '1', '2'] support value: 11627\n",
      "\n",
      "pattern: ['1', '1', '3'] support value: 7052\n",
      "\n",
      "pattern: ['1', '1', '4'] support value: 5656\n",
      "\n",
      "pattern: ['1', '1', '5'] support value: 1659\n",
      "\n",
      "pattern: ['1', '1', '6'] support value: 8551\n",
      "\n",
      "pattern: ['1', '1', '7'] support value: 2470\n",
      "\n",
      "pattern: ['2', '3'] support value: 6677\n",
      "\n",
      "pattern: ['2', '4'] support value: 4770\n",
      "\n",
      "pattern: ['2', '5'] support value: 1407\n",
      "\n",
      "pattern: ['2', '6'] support value: 4425\n",
      "\n",
      "pattern: ['2', '7'] support value: 1852\n",
      "\n",
      "pattern: ['2', '8'] support value: 1466\n",
      "\n",
      "pattern: ['2', '9'] support value: 1986\n",
      "\n",
      "pattern: ['3', '4'] support value: 4629\n",
      "\n",
      "pattern: ['3', '5'] support value: 1296\n",
      "\n",
      "pattern: ['3', '6'] support value: 6407\n",
      "\n",
      "pattern: ['3', '7'] support value: 1148\n",
      "\n",
      "pattern: ['3', '8'] support value: 1009\n",
      "\n",
      "pattern: ['3', '9'] support value: 3437\n",
      "\n",
      "pattern: ['4', '6'] support value: 6414\n",
      "\n",
      "pattern: ['4', '7'] support value: 3929\n",
      "\n",
      "pattern: ['4', '8'] support value: 1328\n",
      "\n",
      "pattern: ['4', '9'] support value: 3643\n",
      "\n",
      "pattern: ['5', '6'] support value: 1332\n",
      "\n",
      "pattern: ['6', '7'] support value: 2305\n",
      "\n",
      "pattern: ['6', '8'] support value: 2026\n",
      "\n",
      "pattern: ['6', '9'] support value: 5249\n",
      "\n",
      "pattern: ['7', '9'] support value: 2047\n",
      "\n",
      "pattern: ['8', '9'] support value: 1201\n",
      "\n"
     ]
    }
   ],
   "source": [
    "for i in range(0,len(freq_items),2):\n",
    "  print(\"pattern: \"+str(freq_items[i])+\" support value: \"+str(freq_items[i+1])+\"\\n\")"
   ]
  }
 ],
 "metadata": {
  "colab": {
   "name": "GSP_Algo.ipynb",
   "provenance": []
  },
  "kernelspec": {
   "display_name": "Python 3",
   "language": "python",
   "name": "python3"
  },
  "language_info": {
   "codemirror_mode": {
    "name": "ipython",
    "version": 3
   },
   "file_extension": ".py",
   "mimetype": "text/x-python",
   "name": "python",
   "nbconvert_exporter": "python",
   "pygments_lexer": "ipython3",
   "version": "3.7.3"
  }
 },
 "nbformat": 4,
 "nbformat_minor": 1
}
